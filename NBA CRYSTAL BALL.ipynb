{
 "cells": [
  {
   "cell_type": "code",
   "execution_count": 1,
   "metadata": {},
   "outputs": [
    {
     "name": "stderr",
     "output_type": "stream",
     "text": [
      "Using TensorFlow backend.\n"
     ]
    }
   ],
   "source": [
    "import functools\n",
    "import numpy as np\n",
    "import pandas as pd\n",
    "from DataLoader import DataLoader\n",
    "import Models as Models"
   ]
  },
  {
   "cell_type": "code",
   "execution_count": 2,
   "metadata": {},
   "outputs": [
    {
     "name": "stdout",
     "output_type": "stream",
     "text": [
      "Loading Data: 2014\n",
      "Loading Data: 2015\n",
      "Loading Data: 2016\n",
      "Loading Data: 2017\n",
      "Loading Data: 2018\n"
     ]
    }
   ],
   "source": [
    "trainData = DataLoader()\n",
    "trainData.getStats(2014, 2018)\n",
    "testData = DataLoader()\n",
    "testData.getStats(2018, 2019)"
   ]
  },
  {
   "cell_type": "code",
   "execution_count": 6,
   "metadata": {
    "scrolled": true
   },
   "outputs": [
    {
     "name": "stdout",
     "output_type": "stream",
     "text": [
      "Epoch 1/40\n",
      "4707/4707 [==============================] - 0s 71us/step - loss: 0.2522 - accuracy: 0.5454\n",
      "Epoch 2/40\n",
      "4707/4707 [==============================] - 0s 21us/step - loss: 0.2460 - accuracy: 0.5723\n",
      "Epoch 3/40\n",
      "4707/4707 [==============================] - 0s 22us/step - loss: 0.2438 - accuracy: 0.5819\n",
      "Epoch 4/40\n",
      "4707/4707 [==============================] - 0s 22us/step - loss: 0.2405 - accuracy: 0.5838\n",
      "Epoch 5/40\n",
      "4707/4707 [==============================] - 0s 22us/step - loss: 0.2375 - accuracy: 0.5881\n",
      "Epoch 6/40\n",
      "4707/4707 [==============================] - 0s 21us/step - loss: 0.2326 - accuracy: 0.5991\n",
      "Epoch 7/40\n",
      "4707/4707 [==============================] - 0s 21us/step - loss: 0.2251 - accuracy: 0.6204\n",
      "Epoch 8/40\n",
      "4707/4707 [==============================] - 0s 21us/step - loss: 0.2206 - accuracy: 0.6405\n",
      "Epoch 9/40\n",
      "4707/4707 [==============================] - 0s 21us/step - loss: 0.2123 - accuracy: 0.6798\n",
      "Epoch 10/40\n",
      "4707/4707 [==============================] - 0s 22us/step - loss: 0.2134 - accuracy: 0.6667\n",
      "Epoch 11/40\n",
      "4707/4707 [==============================] - 0s 26us/step - loss: 0.2075 - accuracy: 0.6845\n",
      "Epoch 12/40\n",
      "4707/4707 [==============================] - 0s 32us/step - loss: 0.2072 - accuracy: 0.6911\n",
      "Epoch 13/40\n",
      "4707/4707 [==============================] - 0s 23us/step - loss: 0.2054 - accuracy: 0.6907\n",
      "Epoch 14/40\n",
      "4707/4707 [==============================] - 0s 23us/step - loss: 0.2041 - accuracy: 0.6917\n",
      "Epoch 15/40\n",
      "4707/4707 [==============================] - 0s 21us/step - loss: 0.2041 - accuracy: 0.6890\n",
      "Epoch 16/40\n",
      "4707/4707 [==============================] - 0s 21us/step - loss: 0.2042 - accuracy: 0.6909\n",
      "Epoch 17/40\n",
      "4707/4707 [==============================] - 0s 27us/step - loss: 0.2023 - accuracy: 0.6902\n",
      "Epoch 18/40\n",
      "4707/4707 [==============================] - 0s 22us/step - loss: 0.2040 - accuracy: 0.6928\n",
      "Epoch 19/40\n",
      "4707/4707 [==============================] - 0s 26us/step - loss: 0.2033 - accuracy: 0.6964\n",
      "Epoch 20/40\n",
      "4707/4707 [==============================] - 0s 21us/step - loss: 0.2037 - accuracy: 0.6849\n",
      "Epoch 21/40\n",
      "4707/4707 [==============================] - 0s 19us/step - loss: 0.2019 - accuracy: 0.6939\n",
      "Epoch 22/40\n",
      "4707/4707 [==============================] - 0s 20us/step - loss: 0.2008 - accuracy: 0.6924\n",
      "Epoch 23/40\n",
      "4707/4707 [==============================] - 0s 21us/step - loss: 0.2015 - accuracy: 0.6892\n",
      "Epoch 24/40\n",
      "4707/4707 [==============================] - 0s 21us/step - loss: 0.2021 - accuracy: 0.6960\n",
      "Epoch 25/40\n",
      "4707/4707 [==============================] - 0s 23us/step - loss: 0.2031 - accuracy: 0.6956\n",
      "Epoch 26/40\n",
      "4707/4707 [==============================] - 0s 24us/step - loss: 0.2012 - accuracy: 0.6939\n",
      "Epoch 27/40\n",
      "4707/4707 [==============================] - 0s 20us/step - loss: 0.2032 - accuracy: 0.6913\n",
      "Epoch 28/40\n",
      "4707/4707 [==============================] - 0s 23us/step - loss: 0.2014 - accuracy: 0.6977\n",
      "Epoch 29/40\n",
      "4707/4707 [==============================] - 0s 29us/step - loss: 0.2012 - accuracy: 0.6992\n",
      "Epoch 30/40\n",
      "4707/4707 [==============================] - 0s 21us/step - loss: 0.2023 - accuracy: 0.6981\n",
      "Epoch 31/40\n",
      "4707/4707 [==============================] - 0s 21us/step - loss: 0.2009 - accuracy: 0.6979\n",
      "Epoch 32/40\n",
      "4707/4707 [==============================] - 0s 21us/step - loss: 0.1997 - accuracy: 0.6962\n",
      "Epoch 33/40\n",
      "4707/4707 [==============================] - 0s 21us/step - loss: 0.2009 - accuracy: 0.6968\n",
      "Epoch 34/40\n",
      "4707/4707 [==============================] - 0s 21us/step - loss: 0.2023 - accuracy: 0.6951\n",
      "Epoch 35/40\n",
      "4707/4707 [==============================] - 0s 23us/step - loss: 0.2012 - accuracy: 0.6977\n",
      "Epoch 36/40\n",
      "4707/4707 [==============================] - 0s 24us/step - loss: 0.2013 - accuracy: 0.6930\n",
      "Epoch 37/40\n",
      "4707/4707 [==============================] - 0s 24us/step - loss: 0.2020 - accuracy: 0.6913\n",
      "Epoch 38/40\n",
      "4707/4707 [==============================] - 0s 28us/step - loss: 0.2001 - accuracy: 0.6966\n",
      "Epoch 39/40\n",
      "4707/4707 [==============================] - 0s 24us/step - loss: 0.2022 - accuracy: 0.6864\n",
      "Epoch 40/40\n",
      "4707/4707 [==============================] - 0s 20us/step - loss: 0.2005 - accuracy: 0.6962\n",
      "1120/1120 [==============================] - 0s 50us/step\n"
     ]
    }
   ],
   "source": [
    "data = []\n",
    "model = Models.sqErrModel()\n",
    "model.fit(trainData.statsFrame, trainData.didHomeWinFrame,\n",
    "            epochs=40,\n",
    "            batch_size=100)\n",
    "score, acc = model.evaluate(testData.statsFrame, testData.didHomeWinFrame, batch_size=128)\n",
    "data.append(acc)"
   ]
  },
  {
   "cell_type": "code",
   "execution_count": 4,
   "metadata": {},
   "outputs": [
    {
     "name": "stdout",
     "output_type": "stream",
     "text": [
      "0.675000011920929\n"
     ]
    }
   ],
   "source": [
    "print(sum(data)/len(data))\n",
    "#score, acc = model.evaluate(testData.statsFrame, testData.didHomeWinFrame, batch_size=128)\n",
    "#print(score)\n",
    "#print(acc)"
   ]
  },
  {
   "cell_type": "code",
   "execution_count": 20,
   "metadata": {
    "scrolled": false
   },
   "outputs": [
    {
     "data": {
      "image/png": "[encoded data removed]",
      "text/plain": [
       "<Figure size 432x288 with 1 Axes>"
      ]
     },
     "metadata": {
      "needs_background": "light"
     },
     "output_type": "display_data"
    }
   ],
   "source": [
    "## Bet the predictions\n",
    "from NBAScraper.Jimmy import Jimmy\n",
    "import matplotlib.pyplot as plt \n",
    "\n",
    "dates = []\n",
    "money = []\n",
    "jim = Jimmy(1000)\n",
    "game = 0\n",
    "for i in range(testData.statsFrame.shape[0]):\n",
    "    confidenceLevel = 0.75\n",
    "    row = model.predict(testData.statsFrame.iloc[i:i+1])\n",
    "    amount = 150\n",
    "    homeOdds = testData.oddsFrame.iloc[i:i+1].values[0][1]\n",
    "    awayOdds = testData.oddsFrame.iloc[i:i+1].values[0][0]\n",
    "    result = int(testData.didHomeWinFrame.iloc[i:i+1].values[0][0])\n",
    "    if row >= confidenceLevel and int(homeOdds) > 0:\n",
    "        jim.bet(amount, homeOdds, result)\n",
    "    if row <= 1-confidenceLevel and int(awayOdds) > 0:\n",
    "        result = 1 - result\n",
    "        jim.bet(amount, awayOdds, result)\n",
    "    dates.append(game)\n",
    "    game = game+1\n",
    "    money.append(jim.getBalance())\n",
    "plt.plot(dates, money)\n",
    "plt.xlabel(\"Game Number\")\n",
    "plt.ylabel(\"Dollars\")\n",
    "plt.show()"
   ]
  },
  {
   "cell_type": "code",
   "execution_count": null,
   "metadata": {},
   "outputs": [],
   "source": []
  },
  {
   "cell_type": "code",
   "execution_count": null,
   "metadata": {},
   "outputs": [],
   "source": []
  },
  {
   "cell_type": "code",
   "execution_count": null,
   "metadata": {},
   "outputs": [],
   "source": []
  }
 ],
 "metadata": {
  "kernelspec": {
   "display_name": "Python 3",
   "language": "python",
   "name": "python3"
  },
  "language_info": {
   "codemirror_mode": {
    "name": "ipython",
    "version": 3
   },
   "file_extension": ".py",
   "mimetype": "text/x-python",
   "name": "python",
   "nbconvert_exporter": "python",
   "pygments_lexer": "ipython3",
   "version": "3.6.10"
  }
 },
 "nbformat": 4,
 "nbformat_minor": 4
}
